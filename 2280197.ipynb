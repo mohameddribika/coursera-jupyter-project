{
 "cells": [
  {
   "cell_type": "markdown",
   "id": "8a738bd4-075f-4d02-a21f-4916981b5e82",
   "metadata": {},
   "source": [
    "# Automated Email Classification Using Machine Learning: Enhancing Inbox Management"
   ]
  },
  {
   "cell_type": "markdown",
   "id": "903be5c4-0a82-47a1-9e98-1ba18ea8f768",
   "metadata": {},
   "source": [
    "## Introduction\n",
    "This notebook explores the application of machine learning techniques to classify emails automatically, aiming to improve inbox management efficiency.\n"
   ]
  },
  {
   "cell_type": "markdown",
   "id": "59f96c54-0909-4a18-8e20-457ec2e45b33",
   "metadata": {},
   "source": [
    "## Data Science Languages\n",
    "- Python\n",
    "- R\n",
    "- SQL\n",
    "- Julia\n",
    "- Scala\n"
   ]
  },
  {
   "cell_type": "markdown",
   "id": "26246d62-4b09-4486-b19c-e1bdb01459e5",
   "metadata": {},
   "source": [
    "## Data Science Libraries\n",
    "- Pandas (Python)\n",
    "- NumPy (Python)\n",
    "- SciPy (Python)\n",
    "- ggplot2 (R)\n",
    "- TensorFlow (Python)\n"
   ]
  },
  {
   "cell_type": "markdown",
   "id": "84a1f613-b9a5-47d4-bf74-9f85280eab9f",
   "metadata": {},
   "source": [
    "## Data Science Tools\n",
    "\n",
    "| Tool          | Type         | Description                                   |\n",
    "|---------------|--------------|-----------------------------------------------|\n",
    "| Jupyter       | IDE          | Interactive development environment for Python and other languages |\n",
    "| RStudio       | IDE          | IDE for R, used for statistical computing and graphics |\n",
    "| Apache Spark  | Framework    | Large-scale data processing framework         |\n",
    "| Tableau       | Visualization| Tool for business intelligence and data visualization |\n",
    "| MATLAB        | Computational| Platform for numerical computing and programming |\n"
   ]
  },
  {
   "cell_type": "markdown",
   "id": "a07c3994-7e74-417e-b9e2-d293deede84d",
   "metadata": {},
   "source": [
    "## Arithmetic Expressions Examples\n",
    "In Python, basic arithmetic operations include addition (`+`), subtraction (`-`), multiplication (`*`), and division (`/`). Here are some examples of these operations.\n"
   ]
  },
  {
   "cell_type": "code",
   "execution_count": 1,
   "id": "63af9212-4da8-4365-a6a9-0b31a4b0ddab",
   "metadata": {},
   "outputs": [
    {
     "name": "stdout",
     "output_type": "stream",
     "text": [
      "The result is: 26\n"
     ]
    }
   ],
   "source": [
    "# Multiplying and adding numbers\n",
    "result = (5 * 4) + (2 * 3)\n",
    "print(\"The result is:\", result)\n"
   ]
  },
  {
   "cell_type": "code",
   "execution_count": 2,
   "id": "ba2f0f5c-3dbc-4670-ac4f-a526324248d1",
   "metadata": {},
   "outputs": [
    {
     "name": "stdout",
     "output_type": "stream",
     "text": [
      "120 minutes is equal to 2.0 hours\n"
     ]
    }
   ],
   "source": [
    "# Converting minutes to hours\n",
    "minutes = 120\n",
    "hours = minutes / 60\n",
    "print(minutes, \"minutes is equal to\", hours, \"hours\")\n"
   ]
  },
  {
   "cell_type": "markdown",
   "id": "c174c1cf-9e96-448d-8389-19fe75c02851",
   "metadata": {},
   "source": [
    "## Objectives\n",
    "- Understand the basics of email classification.\n",
    "- Apply machine learning techniques to categorize emails.\n",
    "- Evaluate the effectiveness of different algorithms.\n",
    "- Enhance inbox management through automation.\n"
   ]
  },
  {
   "cell_type": "markdown",
   "id": "6e1d3603-b4fb-4e6a-95cd-7ff920f3eef9",
   "metadata": {},
   "source": [
    "## Author\n",
    "- Mohamed Dribika\n"
   ]
  },
  {
   "cell_type": "code",
   "execution_count": null,
   "id": "f8ac2bb1-1a9a-450d-9a7b-895cc9462c4f",
   "metadata": {},
   "outputs": [],
   "source": []
  }
 ],
 "metadata": {
  "kernelspec": {
   "display_name": "Python 3 (ipykernel)",
   "language": "python",
   "name": "python3"
  },
  "language_info": {
   "codemirror_mode": {
    "name": "ipython",
    "version": 3
   },
   "file_extension": ".py",
   "mimetype": "text/x-python",
   "name": "python",
   "nbconvert_exporter": "python",
   "pygments_lexer": "ipython3",
   "version": "3.12.3"
  }
 },
 "nbformat": 4,
 "nbformat_minor": 5
}
